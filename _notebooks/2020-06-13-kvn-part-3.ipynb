{
 "cells": [
  {
   "cell_type": "markdown",
   "metadata": {},
   "source": [
    "# KVN, Margaret & bingo - Part 3\n",
    "> Third part of a (hopefully) friendly introduction to Neural Networks and their capabilities. In this part, we will succesfully train a Neural Network with Python Keras to recognize handwritten digits.\n",
    "\n",
    "- toc: true \n",
    "- badges: false\n",
    "- comments: true\n",
    "- categories: [machine learning]"
   ]
  },
  {
   "cell_type": "markdown",
   "metadata": {},
   "source": [
    "In [Part 1](https://bepuca.dev/machine%20learning/2020/05/24/kvn-part-1.html), we defined what we are trying to achieve (KVN whispering Margaret the drawn numbers) and what our proposed solution (a Neural Network).\n",
    "\n",
    "In [Part 2](https://bepuca.dev/machine%20learning/2020/06/04/kvn-part-2.html), we introduced the key concepts for KVN to be able to learn anything at all: loss functions, gradient descent and backpropagation."
   ]
  },
  {
   "cell_type": "markdown",
   "metadata": {},
   "source": [
    "Now it is time to start building the system we want to implement into KVN! To do so, we will use the **Keras** Python library. This library is specially designed to ease the creation and implementation of neural networks. Most of the things discussed above are already implemented in the library's methods. Let's start by loaing everything we will need.\n",
    "\n",
    "> Important: Even though we will use Python to implement the concepts, I aim to explain them in a way everyone can get the gist."
   ]
  },
  {
   "cell_type": "code",
   "execution_count": 167,
   "metadata": {},
   "outputs": [],
   "source": [
    "import numpy as np\n",
    "import matplotlib.pyplot as plt\n",
    "\n",
    "import tensorflow as tf\n",
    "from tensorflow import keras\n",
    "from tensorflow.keras import layers"
   ]
  },
  {
   "cell_type": "markdown",
   "metadata": {},
   "source": [
    "### Load the data\n",
    "First of all, we need some examples for KVN to learn. Recall that we intend to make KVN learn by showing him examples of handwritten digits and telling him what number they represent. The set of examples used for learning are called the **training set**. Moreover, we also need some other examples that we can show KVN to evaluate him before the big night so we are sure he will deliver. These examples are called the **test set**.\n",
    "\n",
    "Therefore, we need images of handwritten digits that we can show KVN so he can start learning. There is an extensively used public dataset called the [MNIST](http://yann.lecun.com/exdb/mnist/) database of handwritten digits. This dataset contains a training set of 60000 examples and a test set of 10000 examples. Luckily for us, this dataset is already implemented in the Keras library so we can directly use it!"
   ]
  },
  {
   "cell_type": "code",
   "execution_count": 168,
   "metadata": {},
   "outputs": [
    {
     "name": "stdout",
     "output_type": "stream",
     "text": [
      "X_train original shape (60000, 28, 28)\n",
      "y_train original shape (60000,)\n"
     ]
    }
   ],
   "source": [
    "(X_train, y_train), (X_test, y_test) = keras.datasets.mnist.load_data()\n",
    "\n",
    "print(\"X_train original shape\", X_train.shape)\n",
    "print(\"y_train original shape\", y_train.shape)"
   ]
  },
  {
   "cell_type": "markdown",
   "metadata": {},
   "source": [
    "As we can see, the training input set *X_train* contains 60000 greyscale images of size 28x28 px. The training label set *y_train* contains 60000 labels corresponding to each image. Let's look at some of the samples:"
   ]
  },
  {
   "cell_type": "code",
   "execution_count": 169,
   "metadata": {},
   "outputs": [
    {
     "data": {
      "image/png": "[encoded data removed]",
      "text/plain": [
       "<Figure size 576x180 with 3 Axes>"
      ]
     },
     "metadata": {},
     "output_type": "display_data"
    }
   ],
   "source": [
    "# Plot some MNIST examples.\n",
    "plt.figure(figsize=(8,2.5))\n",
    "for i in range(3):\n",
    "    plt.subplot(131+i)\n",
    "    plt.imshow(X_train[i], cmap='gray_r')\n",
    "    plt.title(f\"Digit: {y_train[i]}\")\n",
    "    plt.xticks([])\n",
    "    plt.yticks([])"
   ]
  },
  {
   "cell_type": "markdown",
   "metadata": {},
   "source": [
    "## Format the data\n",
    "\n",
    "As expected, these images are just what we need for KVN to learn to assist Margaret! Now, in order to use the images in the Keras implementation of the system, they have to be formatted in a particular manner (defined by the Keras library)::\n",
    "- Each pixel value goes from 0 to 255, but inputs need to be between 0 and 1. \n",
    "- The inputs must be vectors, not matrices.\n",
    "\n",
    "    28x28 px -> 784x1 px\n",
    "    \n",
    "There are ten categories which correspond to digits from $0$ to $9$."
   ]
  },
  {
   "cell_type": "code",
   "execution_count": 170,
   "metadata": {},
   "outputs": [
    {
     "name": "stdout",
     "output_type": "stream",
     "text": [
      "Training matrix shape (60000, 784)\n",
      "Testing matrix shape (10000, 784)\n"
     ]
    }
   ],
   "source": [
    "# Format the data shape.\n",
    "X_train = X_train.reshape(60000, 784)\n",
    "X_test = X_test.reshape(10000, 784)\n",
    "\n",
    "# Change data type.\n",
    "X_train = X_train.astype('float32')\n",
    "X_test = X_test.astype('float32')\n",
    "y_train = y_train.astype('float32')\n",
    "y_test = y_test.astype('float32')\n",
    "\n",
    "# Normalize inputs to 0-1 interval.\n",
    "X_train /= 255\n",
    "X_test /= 255\n",
    "\n",
    "print(\"Training matrix shape\", X_train.shape)\n",
    "print(\"Testing matrix shape\", X_test.shape)"
   ]
  },
  {
   "cell_type": "markdown",
   "metadata": {},
   "source": [
    "## Build the neural network\n",
    "Now that we have the data, we need to **build** the system that we will implement to KVN, we need to build the neural network! So far, the only network that we have seen had one (dummy) input layer, one hidden layer and one output layer. There are different types of layers. The one that is fully connected to the previous and the next layer (as the ones we have seen) is called **Dense** in Keras. For now, we will stick to this simple **architechture** (i.e. network structure) and see if it works. That is, our neural network will be constituted by:\n",
    "\n",
    "1. An input layer with $784$ inputs (one per pixel).\n",
    "\n",
    "2. A hidden Dense layer with $n=30$ neurons.\n",
    "\n",
    "    - Activation function: sigmoid\n",
    "    \n",
    "    \n",
    "3. An output Dense layer with $n=10$ neurons.\n",
    "\n",
    "    - Activation function: sigmoid\n",
    "    \n",
    "The choice of $n=30$ neurons in the hidden layer is rather arbitrary. Nonetheless, the number of neurons on the output layer is directly related to the number of categories we want for KVN to learn. Since we have $10$ categories (digits), we need $10$ neurons. The idea is that KVN's guess will be related to the neuron that has the higher activation. If the neuron corresponding to the digit 3 is the one with the higher activation, KVN is saying: *\"A 3!\"*.\n",
    "\n",
    "Keras allows us to build our neural network in a very intuitive way. We generate what is called a *Sequential* model that basically lets us to add layers sequentially. When we add layers, there are ways to initialize the weights and biases (i.e. the parameter set) with different distributions. Nonetheless, we won't focus on this. Despite that, know that the initialization can influence the learning procedure. This makes sense since the initialization determines where in the mountain we start our downhill!\n",
    "\n",
    "Enough chit chat, let's build KVN's system!"
   ]
  },
  {
   "cell_type": "code",
   "execution_count": 171,
   "metadata": {},
   "outputs": [],
   "source": [
    "# Define KVN's system.\n",
    "kvn = keras.Sequential(name='KVN_system')\n",
    "\n",
    "# Add the hidden layer, a Dense layer with 30 neurons.\n",
    "# The first layer also requires specification of input dimensions.\n",
    "# Specify the activation function of the neurons too.\n",
    "kvn.add(layers.Dense(30, input_shape=(784,), activation='relu', name='hidden'))\n",
    "\n",
    "# Add the output layer, a Dense layer with 10 neurons (1 neuron per category).\n",
    "kvn.add(layers.Dense(10, activation='sigmoid', name='output'))\n",
    "\n",
    "# Save the initial weights and biases.\n",
    "kvn.save_weights('kvn_init_weights.h5')"
   ]
  },
  {
   "cell_type": "markdown",
   "metadata": {},
   "source": [
    "Keras also allows us to check that we built the system we want. Here's how:"
   ]
  },
  {
   "cell_type": "code",
   "execution_count": 172,
   "metadata": {},
   "outputs": [
    {
     "name": "stdout",
     "output_type": "stream",
     "text": [
      "Model: \"KVN_system\"\n",
      "_________________________________________________________________\n",
      "Layer (type)                 Output Shape              Param #   \n",
      "=================================================================\n",
      "hidden (Dense)               (None, 30)                23550     \n",
      "_________________________________________________________________\n",
      "output (Dense)               (None, 10)                310       \n",
      "=================================================================\n",
      "Total params: 23,860\n",
      "Trainable params: 23,860\n",
      "Non-trainable params: 0\n",
      "_________________________________________________________________\n"
     ]
    }
   ],
   "source": [
    "kvn.summary()"
   ]
  },
  {
   "cell_type": "markdown",
   "metadata": {},
   "source": [
    "## Insert system into KVN\n",
    "Now that we have defined our system, we plug it into KVN. In actual terms, we **compile** the model (we won't delve into that either). The only thing that we need to know is that we need to specify the loss function (measure of how wrong KVN is), the optimizer (KVN's learning method) we want to use in the system and which metrics we want to get (the accuracy of KVN's predictions)."
   ]
  },
  {
   "cell_type": "code",
   "execution_count": 173,
   "metadata": {},
   "outputs": [],
   "source": [
    "# Compile the model.\n",
    "kvn.compile(\n",
    "    # Loss function (wrongness meter). \n",
    "    loss='sparse_categorical_crossentropy',\n",
    "    # Optimizer (learning method).\n",
    "    optimizer='sgd',\n",
    "    # Result evaluation.\n",
    "    metrics=['accuracy']\n",
    ")"
   ]
  },
  {
   "cell_type": "markdown",
   "metadata": {},
   "source": [
    "## KVN, learn!\n",
    "Now that we have plugged the system into KVN it is time to start showing him the images of the numbers. 60000 of them. This phase is usually called the model **fit** because we are fitting all parameters to minimize the cost function. The **validation set** specified here answers to a similar idea as the test set. We have a set of examples to validate how KVN's is doing during the learning phase. \n",
    "\n",
    "> Tip: For proper development, we would want a validation set _and_ a test set. Validation sets are used to try different strategies and asses which one is best during training. The test set should only be used at the end to provide an idea on how good KVN will work in the real situation.\n",
    "\n",
    "Let's learn!"
   ]
  },
  {
   "cell_type": "code",
   "execution_count": 174,
   "metadata": {},
   "outputs": [],
   "source": [
    "batch_size = 64 # Number of training examples in each mini-batch.\n",
    "epochs = 10     # Number of epochs.\n",
    "\n",
    "# Fit the model and store information in history.\n",
    "history = kvn.fit(X_train, y_train, batch_size=batch_size, epochs=epochs, verbose=0)"
   ]
  },
  {
   "cell_type": "markdown",
   "metadata": {},
   "source": [
    "## KVN, test time!\n",
    "After this training session, KVN should have learned something. Now we want to see what has he learnt. To do so, let's evaluate KVN. Let's show him the test images (which he didn't use to learn although we already used them to see how he was doing) and see how good is he at identifying the digit present."
   ]
  },
  {
   "cell_type": "code",
   "execution_count": 175,
   "metadata": {},
   "outputs": [
    {
     "name": "stdout",
     "output_type": "stream",
     "text": [
      "Test loss: 0.2650674283504486\n",
      "Test accuracy: 0.9253000020980835\n"
     ]
    }
   ],
   "source": [
    "# Evaluate the performance of the system with the test set.\n",
    "scores = kvn.evaluate(X_test, y_test, verbose=0)\n",
    "\n",
    "# Scores contain the specified metrics.\n",
    "print(\"Test loss:\", scores[0])     # Loss function by default.\n",
    "print(\"Test accuracy:\", scores[1]) # Accuracy as asked."
   ]
  },
  {
   "cell_type": "markdown",
   "metadata": {},
   "source": [
    "Damn, KVN! This is a remarkably good result! An accuracy of over $0.90$ means that KVN got the digit right more than $90 \\%$ of the time. This is quite a feature!\n",
    "\n",
    "Let's check some of the KVN's good guesses and some of the KVN's bad guesses to get a flavor of what he has learned."
   ]
  },
  {
   "cell_type": "code",
   "execution_count": 176,
   "metadata": {},
   "outputs": [
    {
     "data": {
      "image/png": "[encoded data removed]",
      "text/plain": [
       "<Figure size 576x180 with 3 Axes>"
      ]
     },
     "metadata": {},
     "output_type": "display_data"
    },
    {
     "data": {
      "image/png": "[encoded data removed]",
      "text/plain": [
       "<Figure size 576x180 with 3 Axes>"
      ]
     },
     "metadata": {},
     "output_type": "display_data"
    }
   ],
   "source": [
    "# Get the predicted class for each sample in X_test.\n",
    "predicted_classes = np.argmax(kvn.predict(X_test), axis=-1)\n",
    "\n",
    "# Check which are the good guesses and the bad guesses.\n",
    "correct_indexes = np.nonzero(y_test == predicted_classes)[0]\n",
    "incorrect_indexes = np.nonzero(y_test != predicted_classes)[0]\n",
    "\n",
    "# And see some examples.\n",
    "# Good guesses (predictions).\n",
    "plt.figure(figsize=(8,2.5))\n",
    "for i, idx in enumerate(correct_indexes[:3]):\n",
    "    plt.subplot(131+i)\n",
    "    plt.imshow(X_test[i].reshape(28,28), cmap='gray_r')\n",
    "    plt.title(f\"KVN's guess: {predicted_classes[idx]}, digit {y_test[idx]}\")\n",
    "    plt.xticks([])\n",
    "    plt.yticks([])\n",
    "plt.tight_layout()\n",
    "    \n",
    "# Bad guesses (predictions).\n",
    "plt.figure(figsize=(8,2.5))  \n",
    "for i, idx in enumerate(incorrect_indexes[:3]):\n",
    "    plt.subplot(131+i)\n",
    "    plt.imshow(X_test[idx].reshape(28,28), cmap='gray_r')\n",
    "    plt.title(f\"KVN's guess: {predicted_classes[idx]}, digit {y_test[idx]}\")\n",
    "    plt.xticks([])\n",
    "    plt.yticks([])\n",
    "plt.tight_layout()"
   ]
  },
  {
   "cell_type": "markdown",
   "metadata": {},
   "source": [
    "Well, as we can see above, KVN got trouble learning to identify digits of rather poor handwritting but correctly identified more standard ones. So, for now, I think we can say that KVN did a good job!\n",
    "\n",
    "Okay okay, good compared to what? The most trivial system would be to randomly pick a class. That is, that when we show KVN an image he randomly says a digit. In that case, he will be right, on average, $10 \\%$ of the time (because we have $10$ classes). So our system is quite better than the random system! Nonetheless, *how good is the accuracy* heavily depends on the problem. If we were trying to identify if a patient has cancer, for instance, this accuracy might still be too low. For the case at hand, that accuracy will absolutely do for good old Margaret.\n",
    "\n",
    "KVN got a cookie!"
   ]
  },
  {
   "cell_type": "markdown",
   "metadata": {},
   "source": [
    "![](kvn/kvn_cookie.jpg \"KVN and his well-deserved cookie.\")"
   ]
  },
  {
   "cell_type": "markdown",
   "metadata": {},
   "source": [
    "## Did we get lucky?\n",
    "\n",
    "As you might have realized, I made some *arbitrary* choices regarding some of the parameters such as the the number of neurons in the hidden layer or the epochs trained. Will KVN always perform that good independently of the choices we make? The short answer is no.\n",
    "\n",
    "In the next (and final part), we will discover some of the factors that can dramatically impact the learning capabilities and performance of neural networks. We will talk about hyperparameters and regularization."
   ]
  },
  {
   "cell_type": "markdown",
   "metadata": {},
   "source": [
    "- [Part 1](https://bepuca.dev/machine%20learning/2020/05/24/kvn-part-1.html): Definition of Neural Networks at the problem at hand. Friendly context introduction.\n",
    "\n",
    "- [Part 2](https://bepuca.dev/machine%20learning/2020/06/01/kvn-part-2.html): The training building blocks: loss functions, gradient descent and backpropagation."
   ]
  },
  {
   "cell_type": "code",
   "execution_count": null,
   "metadata": {},
   "outputs": [],
   "source": []
  }
 ],
 "metadata": {
  "kernelspec": {
   "display_name": "covid19abm",
   "language": "python",
   "name": "covid19abm"
  },
  "language_info": {
   "codemirror_mode": {
    "name": "ipython",
    "version": 3
   },
   "file_extension": ".py",
   "mimetype": "text/x-python",
   "name": "python",
   "nbconvert_exporter": "python",
   "pygments_lexer": "ipython3",
   "version": "3.8.2"
  }
 },
 "nbformat": 4,
 "nbformat_minor": 4
}
